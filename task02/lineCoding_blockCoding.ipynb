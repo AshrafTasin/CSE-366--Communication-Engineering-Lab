{
  "nbformat": 4,
  "nbformat_minor": 0,
  "metadata": {
    "colab": {
      "name": "lineCoding_blockCoding.ipynb",
      "provenance": [],
      "collapsed_sections": [
        "vkIjvpeTtuYw",
        "p1abCs2PJnAw",
        "i4SNNIlQtzbQ",
        "F6cwAjglvzME",
        "h0MhCXZ0xFP5",
        "QDTgzL4E00Qt"
      ],
      "authorship_tag": "ABX9TyN0iOmt+6w3UbCgSxBaXwlQ",
      "include_colab_link": true
    },
    "kernelspec": {
      "name": "python3",
      "display_name": "Python 3"
    },
    "language_info": {
      "name": "python"
    }
  },
  "cells": [
    {
      "cell_type": "markdown",
      "metadata": {
        "id": "view-in-github",
        "colab_type": "text"
      },
      "source": [
        "<a href=\"https://colab.research.google.com/github/AshrafTasin/CSE-366--Communication-Engineering-Lab/blob/main/task02/lineCoding_blockCoding.ipynb\" target=\"_parent\"><img src=\"https://colab.research.google.com/assets/colab-badge.svg\" alt=\"Open In Colab\"/></a>"
      ]
    },
    {
      "cell_type": "markdown",
      "metadata": {
        "id": "7ZZoeaGR6HA5"
      },
      "source": [
        "#Name : Syed Ashraf Al Tasin\n",
        "##Reg : 2017331014\n",
        "###Task 02"
      ]
    },
    {
      "cell_type": "markdown",
      "metadata": {
        "id": "vkIjvpeTtuYw"
      },
      "source": [
        "#Importing Necessary Libraries"
      ]
    },
    {
      "cell_type": "code",
      "metadata": {
        "id": "LBkIokpbsgga"
      },
      "source": [
        "import numpy as np\n",
        "import matplotlib.pyplot as plt"
      ],
      "execution_count": 1,
      "outputs": []
    },
    {
      "cell_type": "code",
      "metadata": {
        "id": "BjLO-W7BScSj"
      },
      "source": [
        "def check_data(data):\n",
        "    \n",
        "    for i in range(len(data)):\n",
        "        if(data[i]!='0' and data[i]!='1'):\n",
        "            return 1"
      ],
      "execution_count": 2,
      "outputs": []
    },
    {
      "cell_type": "markdown",
      "metadata": {
        "id": "p1abCs2PJnAw"
      },
      "source": [
        "#Unipolar NRZ\n"
      ]
    },
    {
      "cell_type": "code",
      "metadata": {
        "colab": {
          "base_uri": "https://localhost:8080/",
          "height": 313
        },
        "id": "omY294y-ONtu",
        "outputId": "4d7efb6b-742f-46aa-9fa7-a2f811d7cedf"
      },
      "source": [
        "def uniNRZ(data):\n",
        "\n",
        "    x=np.arange(0, len(data), 0.01)\n",
        "    y=np.empty(0)\n",
        "\n",
        "    for bit in data:\n",
        "        if bit=='0':\n",
        "            y=np.concatenate((y, np.zeros(100)))\n",
        "        elif bit=='1':\n",
        "            y=np.concatenate((y, np.ones(100)))\n",
        "            \n",
        "    return x,y\n",
        "\n",
        "def plot_UNRZ(data):\n",
        "\n",
        "    x,y=uniNRZ(data)\n",
        "    plt.figure(figsize=(15, 4))\n",
        "    plt.plot(x,y,linewidth=2)\n",
        "    plt.xlabel('Time')\n",
        "    plt.ylabel('Amplitude')\n",
        "    plt.title('Unipolar NRZ')\n",
        "    plt.yticks([0,0.5,1])\n",
        "    plt.grid('on')\n",
        "    plt.show()\n",
        "\n",
        "\n",
        "data=input(\"Input Binary Data Stream : \")\n",
        "\n",
        "if(check_data(data)==1):\n",
        "    print(\"Please Enter Valid Binary Data Stream!\")\n",
        "else:\n",
        "    plot_UNRZ(data)"
      ],
      "execution_count": 3,
      "outputs": [
        {
          "name": "stdout",
          "output_type": "stream",
          "text": [
            "Input Binary Data Stream : 0100101\n"
          ]
        },
        {
          "output_type": "display_data",
          "data": {
            "image/png": "[encoded data removed]",
            "text/plain": [
              "<Figure size 1080x288 with 1 Axes>"
            ]
          },
          "metadata": {
            "needs_background": "light"
          }
        }
      ]
    },
    {
      "cell_type": "markdown",
      "metadata": {
        "id": "i4SNNIlQtzbQ"
      },
      "source": [
        "#Polar NRZ-L & NRZ-I\n",
        "\n",
        "In Polar NRZ-L scheme, we assume bit 0 is represented by a positive voltage and bit 1 is represented by a negative voltage.\n",
        "\n",
        "And in Polar NRZ-I scheme, we assume that the last voltage level was positive. It is required as the change or lack of change in the level of the voltage determines the value of the bit in this scheme. If there is no change, the bit is 0; if there is a change, the bit is 1."
      ]
    },
    {
      "cell_type": "code",
      "metadata": {
        "colab": {
          "base_uri": "https://localhost:8080/",
          "height": 531
        },
        "id": "M84rnvjYt3jV",
        "outputId": "0fcbde1a-35d2-473a-bbe2-719cd240c3bc"
      },
      "source": [
        "def polar_NRZL(data):\n",
        "    \n",
        "    x=np.arange(0, len(data), 0.01)\n",
        "    y=np.empty(0)\n",
        "\n",
        "    for bit in data:\n",
        "        if bit==\"0\":\n",
        "                y=np.concatenate((y, np.ones(100)*1))\n",
        "        elif bit==\"1\":\n",
        "                y=np.concatenate((y, np.ones(100)*-1))\n",
        "    \n",
        "    return x,y\n",
        "\n",
        "\n",
        "def polar_NRZI(data, prevbit):\n",
        "\n",
        "    x=np.arange(0, len(data), 0.01)\n",
        "    y=np.empty(0)\n",
        "\n",
        "    no_inversion=[]\n",
        "    no_inversion_0=[]\n",
        "    inversion=[]\n",
        "    inversion_1=[]\n",
        "\n",
        "    encoded=[] \n",
        "\n",
        "    for bit in data:\n",
        "        if bit==\"0\":\n",
        "            y=np.concatenate((y, np.ones(100)*prevbit))\n",
        "            encoded.append(prevbit)\n",
        "        elif bit==\"1\":\n",
        "            if prevbit==1:\n",
        "                y=np.concatenate((y, np.zeros(100)-1))\n",
        "                encoded.append(-1)\n",
        "                prevbit=-1\n",
        "            else:\n",
        "                y=np.concatenate((y, np.ones(100)))\n",
        "                encoded.append(1)\n",
        "                prevbit=1\n",
        "\n",
        "    for i in range(0,len(data)-1): \n",
        "        if encoded[i] == encoded[i+1]:\n",
        "            no_inversion.append(encoded[i])\n",
        "            no_inversion_0.append(i+1)\n",
        "        else:\n",
        "            inversion.append(encoded[i])\n",
        "            inversion_1.append(i+1)\n",
        "\n",
        "    return x, y, no_inversion_0, no_inversion, inversion_1, inversion\n",
        "\n",
        "\n",
        "\n",
        "def plot_PNRZ(data, startbit):\n",
        "\n",
        "    fig, axs = plt.subplots(2, figsize=(12,8))\n",
        "    x, y=polar_NRZL(data)\n",
        "    axs[0].plot(x, y, linewidth=3)\n",
        "    axs[0].set_title('Polar: NRZ-L')\n",
        "    axs[0].set(ylabel='Amplitude', title='Polar: NRZ-L')\n",
        "    axs[0].set_xticks([x for x in range(len(data)+1)])\n",
        "    axs[0].set_yticks([-1.5, -1, -0.5, 0, 0.5, 1, 1.5])\n",
        "    axs[0].set_yticklabels(['', '-1', '', '0', '', '1', ''])\n",
        "    axs[0].grid()\n",
        "\n",
        "\n",
        "    x, y, no_inversion_0, no_inversion, inversion_1, inversion = polar_NRZI(data, startbit)\n",
        "    axs[1].plot(x, y, linewidth=3)\n",
        "    p1,=axs[1].plot(no_inversion_0, no_inversion, 'o', markeredgecolor=\"black\", markerfacecolor=\"white\", markersize=6, label=\"Next bit is 0: No Inversion\")\n",
        "    p2,=axs[1].plot(inversion_1, inversion, 'ok', markersize=6, label=\"Next bit is 1: Inversion\")\n",
        "    axs[1].legend(loc='lower right', prop={'size': 8.0})\n",
        "    axs[1].set_title('Polar: NRZ-I')\n",
        "    axs[1].set(xlabel='Time', ylabel='Amplitude', title='Polar: NRZ-I')\n",
        "    axs[1].set_xticks([x for x in range(len(data)+1)])\n",
        "    axs[1].set_yticks([-1.5, -1, -0.5, 0, 0.5, 1, 1.5])\n",
        "    axs[1].set_yticklabels(['', '-1', '', '0', '', '1', ''])\n",
        "    axs[1].grid()\n",
        "    plt.show()\n",
        "\n",
        "data=input(\"Input Binary Data Stream : \")\n",
        "\n",
        "if(check_data(data)==1):\n",
        "    print(\"Please Enter Valid Binary Data Stream!\")\n",
        "else:\n",
        "    plot_PNRZ(data,1)"
      ],
      "execution_count": 4,
      "outputs": [
        {
          "name": "stdout",
          "output_type": "stream",
          "text": [
            "Input Binary Data Stream : 01001110\n"
          ]
        },
        {
          "output_type": "display_data",
          "data": {
            "image/png": "[encoded data removed]",
            "text/plain": [
              "<Figure size 864x576 with 2 Axes>"
            ]
          },
          "metadata": {
            "needs_background": "light"
          }
        }
      ]
    },
    {
      "cell_type": "markdown",
      "metadata": {
        "id": "F6cwAjglvzME"
      },
      "source": [
        "#Polar RZ"
      ]
    },
    {
      "cell_type": "code",
      "metadata": {
        "colab": {
          "base_uri": "https://localhost:8080/",
          "height": 313
        },
        "id": "a1KTFbegv08o",
        "outputId": "7059a524-12d4-4903-b571-0fc69aa8d79c"
      },
      "source": [
        "def polar_RZ(data):\n",
        "    x=np.arange(0, len(data)+0.01, 0.01)\n",
        "    y=np.empty(0)\n",
        "\n",
        "    for bit in data:\n",
        "        if bit==\"0\":\n",
        "            y=np.concatenate((y, np.zeros(50)-1))\n",
        "        elif bit==\"1\":\n",
        "            y=np.concatenate((y, np.ones(50)))\n",
        "        y=np.concatenate((y, np.zeros(50)))\n",
        "    y=np.concatenate((y, np.array([1])))\n",
        "    \n",
        "    return x,y\n",
        "\n",
        "def plot_PRZ(data):\n",
        "    fig, axs = plt.subplots(figsize=(15, 4))\n",
        "    x, y = polar_RZ(data)\n",
        "    axs.plot(x, y, linewidth=3)\n",
        "    axs.set_title('Polar RZ')\n",
        "    axs.set(xlabel='Time', ylabel='Amplitude', title='Polar RZ')\n",
        "    axs.set_xticks([x for x in range(len(data)+1)])\n",
        "    axs.set_yticks([-1.5, -1, -0.5, 0, 0.5, 1, 1.5])\n",
        "    axs.set_yticklabels(['', '-1', '', '0', '', '1', ''])\n",
        "    axs.grid()\n",
        "    plt.show()\n",
        "\n",
        "data=input(\"Input Binary Data Stream : \")\n",
        "\n",
        "if(check_data(data)==1):\n",
        "    print(\"Please Enter Valid Binary Data Stream!\")\n",
        "else:\n",
        "    plot_PRZ(data)\n"
      ],
      "execution_count": 5,
      "outputs": [
        {
          "name": "stdout",
          "output_type": "stream",
          "text": [
            "Input Binary Data Stream : 010011101\n"
          ]
        },
        {
          "output_type": "display_data",
          "data": {
            "image/png": "[encoded data removed]",
            "text/plain": [
              "<Figure size 1080x288 with 1 Axes>"
            ]
          },
          "metadata": {
            "needs_background": "light"
          }
        }
      ]
    },
    {
      "cell_type": "markdown",
      "metadata": {
        "id": "h0MhCXZ0xFP5"
      },
      "source": [
        "#Bi Polar"
      ]
    },
    {
      "cell_type": "code",
      "metadata": {
        "colab": {
          "base_uri": "https://localhost:8080/",
          "height": 531
        },
        "id": "LRa_I7SKxHYZ",
        "outputId": "cc7ae8d3-09cb-4be6-8b22-e72f943ea125"
      },
      "source": [
        "def AMI(data):\n",
        "   \n",
        "    x=np.arange(0, len(data), 0.01)\n",
        "    y=np.empty(0)\n",
        "\n",
        "    previous=-1\n",
        "\n",
        "    for bit in data:\n",
        "        if bit==\"0\":\n",
        "            y=np.concatenate((y, np.zeros(100)))\n",
        "        else:\n",
        "            if previous==1:\n",
        "                y=np.concatenate((y, np.zeros(100)-1))\n",
        "                previous=-1\n",
        "            else:\n",
        "                y=np.concatenate((y, np.ones(100)))\n",
        "                previous = 1\n",
        "    return x,y\n",
        "\n",
        "def Pseudoternary(data):\n",
        "    \n",
        "    x=np.arange(0, len(data)+0.01, 0.01)\n",
        "    y=np.empty(0)\n",
        "\n",
        "    previous=-1\n",
        "\n",
        "    for bit in data:\n",
        "        if bit==\"0\":\n",
        "            if previous==1:\n",
        "                y=np.concatenate((y, np.zeros(100)-1))\n",
        "                previous=-1\n",
        "            else:\n",
        "                y=np.concatenate((y, np.ones(100)))\n",
        "                previous=1\n",
        "        else:\n",
        "            y=np.concatenate((y, np.zeros(100)))\n",
        "\n",
        "    y=np.concatenate((y, np.array([0])))\n",
        "\n",
        "    return x,y\n",
        "\n",
        "def plot_Bipolar(bits):\n",
        "    fig, axs = plt.subplots(2, figsize=(15, 8))\n",
        "    x, y = AMI(bits)\n",
        "    axs[0].plot(x, y, linewidth=3)\n",
        "    axs[0].set(ylabel='Amplitude', title='AMI')\n",
        "    axs[0].set_xticks([x for x in range(len(bits)+1)])\n",
        "    axs[0].set_yticks([-1.5, -1, -0.5, 0, 0.5, 1, 1.5])\n",
        "    axs[0].set_yticklabels(['', '-1', '', '0', '', '1', ''])\n",
        "    axs[0].grid()\n",
        "    \n",
        "    x, y=Pseudoternary(bits)\n",
        "    axs[1].plot(x, y, linewidth=3)\n",
        "    axs[1].set(xlabel='Time', ylabel='Amplitude', title='Pseudoternary')\n",
        "    axs[1].set_xticks([x for x in range(len(bits)+1)])\n",
        "    axs[1].set_yticks([-1.5, -1, -0.5, 0, 0.5, 1, 1.5])\n",
        "    axs[1].set_yticklabels(['', '-1', '', '0', '', '1', ''])\n",
        "    axs[1].grid()\n",
        "    plt.show()\n",
        "\n",
        "data=input(\"Input Binary Data Stream : \")\n",
        "\n",
        "if(check_data(data)==1):\n",
        "    print(\"Please Enter Valid Binary Data Stream!\")\n",
        "else:\n",
        "    plot_Bipolar(data)"
      ],
      "execution_count": 6,
      "outputs": [
        {
          "name": "stdout",
          "output_type": "stream",
          "text": [
            "Input Binary Data Stream : 010011101\n"
          ]
        },
        {
          "output_type": "display_data",
          "data": {
            "image/png": "[encoded data removed]",
            "text/plain": [
              "<Figure size 1080x576 with 2 Axes>"
            ]
          },
          "metadata": {
            "needs_background": "light"
          }
        }
      ]
    },
    {
      "cell_type": "markdown",
      "metadata": {
        "id": "QDTgzL4E00Qt"
      },
      "source": [
        "#Block Coding\n",
        "\n",
        "##4B/5B"
      ]
    },
    {
      "cell_type": "code",
      "metadata": {
        "colab": {
          "base_uri": "https://localhost:8080/",
          "height": 437
        },
        "id": "pZF0152W58Gc",
        "outputId": "d9e9eb24-21ec-4eb5-d403-2dcc151d9b01"
      },
      "source": [
        "conversion = {'0000': '11110', \n",
        "              '0001': '01001',\n",
        "              '0010': '10100', \n",
        "              '0011': '10101',\n",
        "              '0100': '01010', \n",
        "              '0101': '01011',\n",
        "              '0110': '01110', \n",
        "              '0111': '01111',\n",
        "              '1000': '10010', \n",
        "              '1001': '10011',\n",
        "              '1010': '10110', \n",
        "              '1011': '10111',\n",
        "              '1100': '11010', \n",
        "              '1101': '11011',\n",
        "              '1110': '11100', \n",
        "              '1111': '11101',\n",
        "              'Q': '00000', \n",
        "              'I': '11111',\n",
        "              'H': '00100', \n",
        "              'J': '11000',\n",
        "              'K': '10001', \n",
        "              'T': '01101',\n",
        "              'S': '11001', \n",
        "              'R': '00111',\n",
        "            }\n",
        "\n",
        "def check_status(seq):\n",
        "    valid=['Q','I','S','J','K','T','R','H']\n",
        "\n",
        "    i=len(seq)\n",
        "    j=0\n",
        "    temp=[]\n",
        "   \n",
        "    while j<i:\n",
        "        temp_str=\"\"\n",
        "        flag=0\n",
        "\n",
        "        for l in range(0,4):\n",
        "            if j+l >= i:\n",
        "                break\n",
        "            if seq[j+l]!='0' and seq[j+l]!='1' and seq[j+l] not in valid:\n",
        "                return \"Sorry! The String must include binary numbers (0/1) or valid control sequence only. Valid Control Sequences are : Q,I,S,J,K,T,R,H\"\n",
        "            if seq[j+l] in valid:\n",
        "                if(len(temp_str) > 0):\n",
        "                    return \"Invalid Sequence\"\n",
        "                temp.append(seq[j+l])\n",
        "                flag=1\n",
        "                j=j+l+1\n",
        "                break\n",
        "            temp_str+=seq[j+l]\n",
        "\n",
        "        if flag==0 :\n",
        "            j=j+4\n",
        "            if len(temp_str)!=4:\n",
        "                return \"Invalid Sequence\"\n",
        "            temp.append(temp_str)\n",
        "            \n",
        "    \n",
        "    for i in temp:\n",
        "        if len(i)!=1 and len(i)!=4:\n",
        "            return \"Invalid Sequence\"\n",
        "    \n",
        "    result=\"\"\n",
        "\n",
        "    for i in temp:\n",
        "        result+=conversion[i]\n",
        "        if(len(i)==1):\n",
        "             print(\"Control Sequence \"+i+\" - Corresponding 5B value : \"+conversion[i])\n",
        "        else:\n",
        "             print(\"Data Sequence : \"+i+\" - Corresponding 5B value : \"+conversion[i])\n",
        "    \n",
        "    print(\"\\nThe Final Result in 5B : \"+result+\"\\n\")\n",
        "    return result\n",
        "\n",
        "n=input(\"Enter Data Sequence : \")\n",
        "result=check_status(n)\n",
        "\n",
        "plot_UNRZ(result)\n"
      ],
      "execution_count": 7,
      "outputs": [
        {
          "output_type": "stream",
          "name": "stdout",
          "text": [
            "Enter Data Sequence : 100011110000Q\n",
            "Data Sequence : 1000 - Corresponding 5B value : 10010\n",
            "Data Sequence : 1111 - Corresponding 5B value : 11101\n",
            "Data Sequence : 0000 - Corresponding 5B value : 11110\n",
            "Control Sequence Q - Corresponding 5B value : 00000\n",
            "\n",
            "The Final Result in 5B : 10010111011111000000\n",
            "\n"
          ]
        },
        {
          "output_type": "display_data",
          "data": {
            "image/png": "[encoded data removed]",
            "text/plain": [
              "<Figure size 1080x288 with 1 Axes>"
            ]
          },
          "metadata": {
            "needs_background": "light"
          }
        }
      ]
    }
  ]
}